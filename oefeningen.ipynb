{
 "cells": [
  {
   "cell_type": "code",
   "execution_count": 59,
   "outputs": [],
   "source": [
    "#multiline statements"
   ],
   "metadata": {
    "collapsed": false,
    "ExecuteTime": {
     "end_time": "2023-10-16T13:55:51.522034Z",
     "start_time": "2023-10-16T13:55:51.501318Z"
    }
   },
   "id": "1370c9f4635dd627"
  },
  {
   "cell_type": "code",
   "execution_count": 60,
   "outputs": [
    {
     "data": {
      "text/plain": "21"
     },
     "execution_count": 60,
     "metadata": {},
     "output_type": "execute_result"
    }
   ],
   "source": [
    "\n",
    "5+2+4\\\n",
    "    +5+5"
   ],
   "metadata": {
    "collapsed": false,
    "ExecuteTime": {
     "end_time": "2023-10-16T13:55:51.546383Z",
     "start_time": "2023-10-16T13:55:51.507393Z"
    }
   },
   "id": "e602769c65a23f2c"
  },
  {
   "cell_type": "code",
   "execution_count": 61,
   "outputs": [
    {
     "name": "stdout",
     "output_type": "stream",
     "text": [
      "elloguvnaoliver\n"
     ]
    }
   ],
   "source": [
    "list = [\"ello\", \"guvna\", \"oliver\"]\n",
    "sentence = list[0] + \"\" + \\\n",
    "           list[1] + \"\" + \\\n",
    "           list[2]\n",
    "print(sentence)"
   ],
   "metadata": {
    "collapsed": false,
    "ExecuteTime": {
     "end_time": "2023-10-16T13:55:51.546945Z",
     "start_time": "2023-10-16T13:55:51.516743Z"
    }
   },
   "id": "2a500d44c7e410c2"
  },
  {
   "cell_type": "code",
   "execution_count": 62,
   "outputs": [
    {
     "ename": "SyntaxError",
     "evalue": "unexpected EOF while parsing (3299657374.py, line 1)",
     "output_type": "error",
     "traceback": [
      "\u001B[0;36m  Cell \u001B[0;32mIn[62], line 1\u001B[0;36m\u001B[0m\n\u001B[0;31m    print(#hallo)\u001B[0m\n\u001B[0m                 ^\u001B[0m\n\u001B[0;31mSyntaxError\u001B[0m\u001B[0;31m:\u001B[0m unexpected EOF while parsing\n"
     ]
    }
   ],
   "source": [
    "print(#hallo)"
   ],
   "metadata": {
    "collapsed": false,
    "ExecuteTime": {
     "end_time": "2023-10-16T13:55:51.548116Z",
     "start_time": "2023-10-16T13:55:51.524075Z"
    }
   },
   "id": "3c5205a9984eadd9"
  },
  {
   "cell_type": "code",
   "execution_count": null,
   "outputs": [],
   "source": [
    "def print_string(string):\n",
    "    print(\"#\" + string)\n",
    "print_string(\"hallp\")"
   ],
   "metadata": {
    "collapsed": false,
    "ExecuteTime": {
     "start_time": "2023-10-16T13:55:51.528305Z"
    }
   },
   "id": "3ab3fa3f1c575293"
  },
  {
   "cell_type": "code",
   "execution_count": null,
   "outputs": [],
   "source": [
    "\"\"\"ternary operator\"\"\""
   ],
   "metadata": {
    "collapsed": false,
    "ExecuteTime": {
     "start_time": "2023-10-16T13:55:51.533620Z"
    }
   },
   "id": "bea90631117d133"
  },
  {
   "cell_type": "code",
   "execution_count": null,
   "outputs": [],
   "source": [
    "a = 16\n",
    "\"even\" if a % 2 == 0 else \"odd\""
   ],
   "metadata": {
    "collapsed": false,
    "ExecuteTime": {
     "start_time": "2023-10-16T13:55:51.537349Z"
    }
   },
   "id": "be291335612a3fed"
  },
  {
   "cell_type": "code",
   "execution_count": null,
   "outputs": [],
   "source": [
    "list = []\n",
    "\"Not empty\" if list else \"empty\"\n"
   ],
   "metadata": {
    "collapsed": false,
    "ExecuteTime": {
     "start_time": "2023-10-16T13:55:51.541029Z"
    }
   },
   "id": "bcd8bafb56d22bd8"
  },
  {
   "cell_type": "code",
   "execution_count": null,
   "outputs": [],
   "source": [
    "string = \"\"\n",
    "\"Not empty\" if string else \"empty\""
   ],
   "metadata": {
    "collapsed": false,
    "ExecuteTime": {
     "start_time": "2023-10-16T13:55:51.544690Z"
    }
   },
   "id": "95d078a525c0d874"
  },
  {
   "cell_type": "code",
   "execution_count": null,
   "outputs": [],
   "source": [
    "a = 2\n",
    "b = 3\n",
    "a if a > b else b"
   ],
   "metadata": {
    "collapsed": false,
    "ExecuteTime": {
     "start_time": "2023-10-16T13:55:51.547900Z"
    }
   },
   "id": "52cd2137b941c30c"
  },
  {
   "cell_type": "code",
   "execution_count": 63,
   "outputs": [
    {
     "name": "stdout",
     "output_type": "stream",
     "text": [
      "hello world\n"
     ]
    }
   ],
   "source": [
    "#\"child\" if age else teenager if aoziefaz else adult \n",
    "print(\"hello world\")"
   ],
   "metadata": {
    "collapsed": false,
    "ExecuteTime": {
     "end_time": "2023-10-16T13:56:15.344970Z",
     "start_time": "2023-10-16T13:56:15.319806Z"
    }
   },
   "id": "ef5653c5b9f8510c"
  },
  {
   "cell_type": "code",
   "execution_count": 71,
   "outputs": [
    {
     "name": "stdout",
     "output_type": "stream",
     "text": [
      "<generator object <genexpr> at 0x7f9ba86baac0>\n"
     ]
    }
   ],
   "source": [
    "mylist = {'test': 3, 'test3': 4}\n",
    "myvar = (y for y in mylist.values())\n",
    "print(myvar)"
   ],
   "metadata": {
    "collapsed": false,
    "ExecuteTime": {
     "end_time": "2023-10-17T07:18:19.703862Z",
     "start_time": "2023-10-17T07:18:19.696718Z"
    }
   },
   "id": "fb43a5c2f3bd7116"
  },
  {
   "cell_type": "code",
   "execution_count": 75,
   "outputs": [
    {
     "name": "stdout",
     "output_type": "stream",
     "text": [
      "0\n",
      "1\n",
      "2\n",
      "3\n",
      "4\n",
      "5\n",
      "6\n",
      "7\n",
      "8\n",
      "9\n"
     ]
    }
   ],
   "source": [
    "newlist = (x for x in range(10))\n",
    "for i in newlist:\n",
    "    print(i)"
   ],
   "metadata": {
    "collapsed": false,
    "ExecuteTime": {
     "end_time": "2023-10-17T07:19:07.218455Z",
     "start_time": "2023-10-17T07:19:07.212122Z"
    }
   },
   "id": "9db35ff4b6a1ea3f"
  },
  {
   "cell_type": "code",
   "execution_count": 79,
   "outputs": [
    {
     "name": "stdout",
     "output_type": "stream",
     "text": [
      "5\n"
     ]
    }
   ],
   "source": [
    "import random\n",
    "print(random.randint(1,5))"
   ],
   "metadata": {
    "collapsed": false,
    "ExecuteTime": {
     "end_time": "2023-10-17T07:20:58.409193Z",
     "start_time": "2023-10-17T07:20:58.403567Z"
    }
   },
   "id": "f9f33c3a8641c744"
  },
  {
   "cell_type": "code",
   "execution_count": null,
   "outputs": [],
   "source": [],
   "metadata": {
    "collapsed": false
   },
   "id": "1cd24d7e7d5a4a12"
  }
 ],
 "metadata": {
  "kernelspec": {
   "display_name": "Python 3",
   "language": "python",
   "name": "python3"
  },
  "language_info": {
   "codemirror_mode": {
    "name": "ipython",
    "version": 2
   },
   "file_extension": ".py",
   "mimetype": "text/x-python",
   "name": "python",
   "nbconvert_exporter": "python",
   "pygments_lexer": "ipython2",
   "version": "2.7.6"
  }
 },
 "nbformat": 4,
 "nbformat_minor": 5
}
