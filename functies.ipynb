{
 "cells": [
  {
   "cell_type": "code",
   "execution_count": 9,
   "id": "initial_id",
   "metadata": {
    "collapsed": true,
    "ExecuteTime": {
     "end_time": "2023-10-24T08:18:29.334740Z",
     "start_time": "2023-10-24T08:18:29.316934Z"
    }
   },
   "outputs": [],
   "source": [
    "a = 10\n",
    "import sys\n",
    "sys.getrefcount(a)"
   ]
  },
  {
   "cell_type": "code",
   "execution_count": 7,
   "outputs": [
    {
     "name": "stdout",
     "output_type": "stream",
     "text": [
      "0x7fca1002ea50\n",
      "0x7fca1002ea50\n",
      "0x7fca1002ea50\n"
     ]
    }
   ],
   "source": [
    "a = 10\n",
    "b = 10\n",
    "c = b\n",
    "c += 5\n",
    "c -= 5\n",
    "\n",
    "print(hex(id(a)))\n",
    "print(hex(id(b)))\n",
    "print(hex(id(c)))"
   ],
   "metadata": {
    "collapsed": false,
    "ExecuteTime": {
     "end_time": "2023-10-17T13:25:27.923001Z",
     "start_time": "2023-10-17T13:25:27.918189Z"
    }
   },
   "id": "a1802e0fe6cd0ccf"
  },
  {
   "cell_type": "code",
   "execution_count": 13,
   "outputs": [
    {
     "name": "stdout",
     "output_type": "stream",
     "text": [
      "[1, 2, 3, 4]\n",
      "0x7fca101ec740\n",
      "0x7fca101ec740\n"
     ]
    }
   ],
   "source": [
    "my_list1 = [1,2,3]\n",
    "my_list2 = my_list1.copy()\n",
    "my_list2.append(4)\n",
    "\n",
    "print(my_list1)\n",
    "print(hex(id(my_list1)))\n",
    "print(hex(id(my_list2)))\n"
   ],
   "metadata": {
    "collapsed": false,
    "ExecuteTime": {
     "end_time": "2023-10-17T13:27:09.910264Z",
     "start_time": "2023-10-17T13:27:09.904951Z"
    }
   },
   "id": "b0d85a0fca01de2"
  },
  {
   "cell_type": "code",
   "execution_count": 14,
   "outputs": [
    {
     "name": "stdout",
     "output_type": "stream",
     "text": [
      "None\n"
     ]
    }
   ],
   "source": [
    "print(None)"
   ],
   "metadata": {
    "collapsed": false,
    "ExecuteTime": {
     "end_time": "2023-10-17T13:30:46.524101Z",
     "start_time": "2023-10-17T13:30:46.496134Z"
    }
   },
   "id": "c17d980083c6a0af"
  },
  {
   "cell_type": "code",
   "execution_count": 15,
   "outputs": [
    {
     "data": {
      "text/plain": "NoneType"
     },
     "execution_count": 15,
     "metadata": {},
     "output_type": "execute_result"
    }
   ],
   "source": [
    "type(None)"
   ],
   "metadata": {
    "collapsed": false,
    "ExecuteTime": {
     "end_time": "2023-10-17T13:30:53.886407Z",
     "start_time": "2023-10-17T13:30:53.870857Z"
    }
   },
   "id": "aad030ce85d63b41"
  },
  {
   "cell_type": "code",
   "execution_count": 9,
   "outputs": [],
   "source": [
    "print(hex(id(None)))"
   ],
   "metadata": {
    "collapsed": false,
    "ExecuteTime": {
     "end_time": "2023-10-24T08:18:05.778296Z",
     "start_time": "2023-10-24T08:18:05.775442Z"
    }
   },
   "id": "9502ceef354fb5"
  },
  {
   "cell_type": "code",
   "execution_count": 17,
   "outputs": [],
   "source": [
    "None"
   ],
   "metadata": {
    "collapsed": false,
    "ExecuteTime": {
     "end_time": "2023-10-17T13:32:03.176955Z",
     "start_time": "2023-10-17T13:32:03.161653Z"
    }
   },
   "id": "71a5a041af1f8da3"
  },
  {
   "cell_type": "code",
   "execution_count": 18,
   "outputs": [
    {
     "name": "stdout",
     "output_type": "stream",
     "text": [
      "False\n"
     ]
    }
   ],
   "source": [
    "if None:\n",
    "    print(True)\n",
    "else: print(False)"
   ],
   "metadata": {
    "collapsed": false,
    "ExecuteTime": {
     "end_time": "2023-10-17T13:32:29.710070Z",
     "start_time": "2023-10-17T13:32:29.692213Z"
    }
   },
   "id": "bdb0586cdb66ddef"
  },
  {
   "cell_type": "code",
   "execution_count": 19,
   "outputs": [
    {
     "data": {
      "text/plain": "False"
     },
     "execution_count": 19,
     "metadata": {},
     "output_type": "execute_result"
    }
   ],
   "source": [
    "None == 0"
   ],
   "metadata": {
    "collapsed": false,
    "ExecuteTime": {
     "end_time": "2023-10-17T13:32:49.888973Z",
     "start_time": "2023-10-17T13:32:49.871259Z"
    }
   },
   "id": "f5f0db364ce0002b"
  },
  {
   "cell_type": "code",
   "execution_count": 20,
   "outputs": [
    {
     "name": "stderr",
     "output_type": "stream",
     "text": [
      "<>:1: SyntaxWarning: \"is\" with a literal. Did you mean \"==\"?\n",
      "<>:1: SyntaxWarning: \"is\" with a literal. Did you mean \"==\"?\n",
      "/var/folders/sf/b4kf8c5s5j98m93x_fwhn4c80000gn/T/ipykernel_48648/2429868724.py:1: SyntaxWarning: \"is\" with a literal. Did you mean \"==\"?\n",
      "  None is 0\n"
     ]
    },
    {
     "data": {
      "text/plain": "False"
     },
     "execution_count": 20,
     "metadata": {},
     "output_type": "execute_result"
    }
   ],
   "source": [
    "None is 0"
   ],
   "metadata": {
    "collapsed": false,
    "ExecuteTime": {
     "end_time": "2023-10-17T13:32:57.111659Z",
     "start_time": "2023-10-17T13:32:57.091101Z"
    }
   },
   "id": "fd864e2349d45c34"
  },
  {
   "cell_type": "code",
   "execution_count": 21,
   "outputs": [
    {
     "name": "stderr",
     "output_type": "stream",
     "text": [
      "<>:1: SyntaxWarning: \"is\" with a literal. Did you mean \"==\"?\n",
      "<>:1: SyntaxWarning: \"is\" with a literal. Did you mean \"==\"?\n",
      "/var/folders/sf/b4kf8c5s5j98m93x_fwhn4c80000gn/T/ipykernel_48648/3497154638.py:1: SyntaxWarning: \"is\" with a literal. Did you mean \"==\"?\n",
      "  1 is 1\n"
     ]
    },
    {
     "data": {
      "text/plain": "True"
     },
     "execution_count": 21,
     "metadata": {},
     "output_type": "execute_result"
    }
   ],
   "source": [
    "1 is 1"
   ],
   "metadata": {
    "collapsed": false,
    "ExecuteTime": {
     "end_time": "2023-10-17T13:33:06.061929Z",
     "start_time": "2023-10-17T13:33:06.037686Z"
    }
   },
   "id": "2de3fca5e0b621ee"
  },
  {
   "cell_type": "code",
   "execution_count": 22,
   "outputs": [
    {
     "data": {
      "text/plain": "True"
     },
     "execution_count": 22,
     "metadata": {},
     "output_type": "execute_result"
    }
   ],
   "source": [
    "1 == 1.0"
   ],
   "metadata": {
    "collapsed": false,
    "ExecuteTime": {
     "end_time": "2023-10-17T13:33:09.717412Z",
     "start_time": "2023-10-17T13:33:09.697444Z"
    }
   },
   "id": "9abdc0ab8613b311"
  },
  {
   "cell_type": "code",
   "execution_count": 9,
   "outputs": [],
   "source": [
    "l = [1,2,3,4,5,6]\n",
    "a , *b=(w,x,y,z), c = l\n",
    "print(a)\n",
    "print(b)\n",
    "print(c)"
   ],
   "metadata": {
    "collapsed": false,
    "ExecuteTime": {
     "end_time": "2023-10-24T08:18:15.226237Z",
     "start_time": "2023-10-24T08:18:15.207278Z"
    }
   },
   "id": "4573a533b9fff907"
  },
  {
   "cell_type": "code",
   "execution_count": 46,
   "outputs": [
    {
     "data": {
      "text/plain": "(1, 2, 3, 4, 5, 6)"
     },
     "execution_count": 46,
     "metadata": {},
     "output_type": "execute_result"
    }
   ],
   "source": [
    "t1 = (1,2,3)\n",
    "t2 = (4,5,6)\n",
    "t = (*t1, *t2)\n",
    "t"
   ],
   "metadata": {
    "collapsed": false,
    "ExecuteTime": {
     "end_time": "2023-10-23T07:45:17.510129Z",
     "start_time": "2023-10-23T07:45:17.500567Z"
    }
   },
   "id": "987c9d3cbd18d0e9"
  },
  {
   "cell_type": "code",
   "execution_count": 9,
   "outputs": [
    {
     "name": "stdout",
     "output_type": "stream",
     "text": [
      "2\n"
     ]
    }
   ],
   "source": [
    "def star_sum()"
   ],
   "metadata": {
    "collapsed": false,
    "ExecuteTime": {
     "end_time": "2023-10-23T11:54:37.129001Z",
     "start_time": "2023-10-23T11:54:37.116369Z"
    }
   },
   "id": "f50bd7703eb8144"
  }
 ],
 "metadata": {
  "kernelspec": {
   "display_name": "Python 3",
   "language": "python",
   "name": "python3"
  },
  "language_info": {
   "codemirror_mode": {
    "name": "ipython",
    "version": 2
   },
   "file_extension": ".py",
   "mimetype": "text/x-python",
   "name": "python",
   "nbconvert_exporter": "python",
   "pygments_lexer": "ipython2",
   "version": "2.7.6"
  }
 },
 "nbformat": 4,
 "nbformat_minor": 5
}
